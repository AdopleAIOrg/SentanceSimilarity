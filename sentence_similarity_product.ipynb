{
  "nbformat": 4,
  "nbformat_minor": 0,
  "metadata": {
    "colab": {
      "provenance": [],
      "include_colab_link": true
    },
    "kernelspec": {
      "name": "python3",
      "display_name": "Python 3"
    },
    "language_info": {
      "name": "python"
    }
  },
  "cells": [
    {
      "cell_type": "markdown",
      "metadata": {
        "id": "view-in-github",
        "colab_type": "text"
      },
      "source": [
        "<a href=\"https://colab.research.google.com/github/AdopleAIOrg/SentanceSimilarity/blob/main/sentence_similarity_product.ipynb\" target=\"_parent\"><img src=\"https://colab.research.google.com/assets/colab-badge.svg\" alt=\"Open In Colab\"/></a>"
      ]
    },
    {
      "cell_type": "code",
      "source": [
        "!pip install streamlit"
      ],
      "metadata": {
        "id": "EU2i_gCsF77J"
      },
      "execution_count": null,
      "outputs": []
    },
    {
      "cell_type": "code",
      "source": [
        "%%writefile app.py\n",
        "import streamlit as st\n",
        "import spacy\n",
        "import spacy.cli\n",
        "import spacy.util\n",
        "\n",
        "class SentenceSimilarity:\n",
        "    def __init__(self):\n",
        "        \"\"\"\n",
        "        Initializes the SentenceSimilarity class by downloading and loading the Spacy model.\n",
        "        \"\"\"\n",
        "\n",
        "        # Download the model using spacy.cli.download\n",
        "        spacy.cli.download(\"en_core_web_md\")\n",
        "\n",
        "        # Load the model using spacy.util.load_model\n",
        "        self.nlp = spacy.util.load_model(\"en_core_web_md\")\n",
        "\n",
        "    def sentence_similarity(self, sentence1: str, sentence2: str) -> float:\n",
        "        \"\"\"\n",
        "        Calculates the similarity score between two sentences.\n",
        "\n",
        "        Args:\n",
        "            sentence1 (str): The first sentence.\n",
        "            sentence2 (str): The second sentence.\n",
        "\n",
        "        Returns:\n",
        "            float: The similarity score between the two sentences.\n",
        "        \"\"\"\n",
        "\n",
        "        doc1 = self.nlp(sentence1)\n",
        "        doc2 = self.nlp(sentence2)\n",
        "\n",
        "        return doc1.similarity(doc2)\n",
        "\n",
        "    def streamlit_interface(self):\n",
        "        \"\"\"\n",
        "        Creates a Streamlit interface for the Sentence Similarity Checker.\n",
        "        \"\"\"\n",
        "\n",
        "        st.title(\"Sentence Similarity Checker\")\n",
        "\n",
        "        sentence1 = st.text_area(\"Enter the first sentence:\")\n",
        "        sentence2 = st.text_area(\"Enter the second sentence:\")\n",
        "\n",
        "        if sentence1 and sentence2:\n",
        "            similarity_score = self.sentence_similarity(sentence1, sentence2)\n",
        "            st.write(\"The similarity score between the two sentences is:\", similarity_score)\n",
        "\n",
        "if __name__ == \"__main__\":\n",
        "    sent_similarity = SentenceSimilarity()\n",
        "    sent_similarity.streamlit_interface()"
      ],
      "metadata": {
        "id": "DO4eglbSGabd"
      },
      "execution_count": null,
      "outputs": []
    },
    {
      "cell_type": "code",
      "source": [
        "!streamlit run app.py & npx localtunnel --port 8501"
      ],
      "metadata": {
        "id": "zRK_ignxHd6E"
      },
      "execution_count": null,
      "outputs": []
    }
  ]
}